{
 "cells": [
  {
   "cell_type": "code",
   "execution_count": 3,
   "id": "f201368f-9fd2-469e-a414-4a26729a0c34",
   "metadata": {},
   "outputs": [],
   "source": [
    "import numpy as np\n",
    "import pandas as pd"
   ]
  },
  {
   "cell_type": "code",
   "execution_count": 6,
   "id": "b04a54b0-667a-4479-971b-77ed980c7c39",
   "metadata": {},
   "outputs": [
    {
     "data": {
      "text/plain": [
       "'/home/isidzukuri/Downloads/UNZIP_FOR_NOTEBOOKS_FINAL/02-Numpy'"
      ]
     },
     "execution_count": 6,
     "metadata": {},
     "output_type": "execute_result"
    }
   ],
   "source": [
    "pwd"
   ]
  }
 ],
 "metadata": {
  "kernelspec": {
   "display_name": "Python 3 (ipykernel)",
   "language": "python",
   "name": "python3"
  },
  "language_info": {
   "codemirror_mode": {
    "name": "ipython",
    "version": 3
   },
   "file_extension": ".py",
   "mimetype": "text/x-python",
   "name": "python",
   "nbconvert_exporter": "python",
   "pygments_lexer": "ipython3",
   "version": "3.12.4"
  }
 },
 "nbformat": 4,
 "nbformat_minor": 5
}
